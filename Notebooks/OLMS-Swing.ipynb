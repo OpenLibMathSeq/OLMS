{
  "cells": [
    {
      "cell_type": "markdown",
      "metadata": {},
      "source": [
        "<h1 style='color:#5E7AFF'>OLMS-Swing numbers</h1>\n",
        "<p>This SageMath notebook is the companion of this <a href='http://olms.onl/Swing/OLMS-Swing.html'>OLMS PAGE</a>. You can download the notebook from <a href='https://github.com/OpenLibMathSeq/OLMS/tree/master/Notebooks/'>GitHub</a>.</p>\n"
      ]
    },
    {
      "cell_type": "code",
      "execution_count": null,
      "metadata": {},
      "outputs": [],
      "source": [
        "load('http://olms.onl/Sagemath/OLMS-notebook.sage')\n"
      ]
    },
    {
      "cell_type": "markdown",
      "metadata": {},
      "source": [
        "<h2 style='color:#5E7AFF'>Sage class</h2>\n"
      ]
    },
    {
      "cell_type": "code",
      "execution_count": null,
      "metadata": {},
      "outputs": [],
      "source": [
        "class SwingClass(OLMS1):\n",
        "\n",
        "    def number(self, n):   # single value\n",
        "        return factorial(n) // factorial(n//2)^2\n",
        "\n",
        "    def generator(self):   # generator\n",
        "        r, n = 1, 0\n",
        "        while True:\n",
        "            yield r\n",
        "            n += 1\n",
        "            r = r*n if is_odd(n) else (r << 2) // n"
      ]
    },
    {
      "cell_type": "markdown",
      "metadata": {},
      "source": [
        "We assume that the reference below is declared throughout the notebook.\n"
      ]
    },
    {
      "cell_type": "code",
      "execution_count": null,
      "metadata": {},
      "outputs": [],
      "source": [
        "Swing = SwingClass()"
      ]
    },
    {
      "cell_type": "markdown",
      "metadata": {},
      "source": [
        "Note that the class provides functions which are more efficient than the use of list comprehensions.\n"
      ]
    },
    {
      "cell_type": "code",
      "execution_count": null,
      "metadata": {},
      "outputs": [],
      "source": [
        "print[Swing(n) for n in range(12)] # slow\n",
        "print Swing.sequence(12) # via generator (fast)"
      ]
    },
    {
      "cell_type": "markdown",
      "metadata": {},
      "source": [
        "<h2 style='color:#5E7AFF;margin-bottom:16px'>Formula <span style='color:orange'>1</span></h2>\n",
        "$$A_{n} = [x^n] \\, \\frac{(1 -4 x^2+x)}{(1-4 x^2)^{3/2}}$$"
      ]
    },
    {
      "cell_type": "code",
      "execution_count": null,
      "metadata": {},
      "outputs": [],
      "source": [
        "F1 = (1 - 4 * x^2 + x) * (1 - 4 * x^2)^(-3/2)\n",
        "print taylor(F1, x, 0, 11).list()"
      ]
    },
    {
      "cell_type": "markdown",
      "metadata": {},
      "source": [
        "<h2 style='color:#5E7AFF;margin-bottom:16px'>Formula <span style='color:orange'>2</span></h2>\n",
        "$$A_{n} = n!\\, [x^n]\\, (1+x) \\operatorname{I}_0(2\\,x)$$"
      ]
    },
    {
      "cell_type": "code",
      "execution_count": null,
      "metadata": {},
      "outputs": [],
      "source": [
        "F2 = (1 + x)*bessel_I(0, 2*x)\n",
        "print [factorial(n)*c for n, c in enumerate(taylor(F2, x, 0, 11).list())]"
      ]
    },
    {
      "cell_type": "markdown",
      "metadata": {},
      "source": [
        "<h2 style='color:#5E7AFF;margin-bottom:16px'>Formula <span style='color:orange'>3</span></h2>\n",
        "$$A_{n}= [x^n] \\, ((1 + x^2)^n\\, +\\, n\\, x\\, (1 + x^2)^{n-1})$$"
      ]
    },
    {
      "cell_type": "code",
      "execution_count": null,
      "metadata": {},
      "outputs": [],
      "source": [
        "F3 = lambda x, n: ((1 + x^2)^n + n*x*(1 + x^2)^(n - 1))\n",
        "[F3(x, n).list()[n] for n in range(12)]"
      ]
    },
    {
      "cell_type": "markdown",
      "metadata": {},
      "source": [
        "<h2 style='color:#5E7AFF;margin-bottom:16px'>Formula <span style='color:orange'>4</span></h2>\n",
        "$$A_{n} = 2^{n-1} (n+2) \\operatorname{F} \\left(\\genfrac{.}{\\vert}{0pt}{}{-n,-n-1,1/2 \\ }{-n-2,1} \\ 2 \\right)$$"
      ]
    },
    {
      "cell_type": "code",
      "execution_count": null,
      "metadata": {},
      "outputs": [],
      "source": [
        "F4 = lambda n: (2)^(n - 1)*(n + 2)*hypergeom([-n, -n-1, 1/2],[-n-2, 1], 2)\n",
        "check(F4, Swing, 12)"
      ]
    },
    {
      "cell_type": "markdown",
      "metadata": {},
      "source": [
        "<h2 style='color:#5E7AFF;margin-bottom:16px'>Formula <span style='color:orange'>5</span></h2>\n",
        "$$A_{n} \\ = \\  4^{\\lfloor n/2 \\rfloor} \\operatorname{F} \\left(\\genfrac{}{\\vert}{0pt}{}{- \\lfloor n /2 \\rfloor ,\\  (-1)^n / 2 \\ } {1 \\ }\\ 1 \\right)$$"
      ]
    },
    {
      "cell_type": "code",
      "execution_count": null,
      "metadata": {},
      "outputs": [],
      "source": [
        "F5 = lambda n: 4^(n//2) * hypergeometric([-(n//2), (-1)^n/2], [1], 1)\n",
        "print [simplify(F5(n)) for n in range(12)]"
      ]
    },
    {
      "cell_type": "markdown",
      "metadata": {},
      "source": [
        "<h2 style='color:#5E7AFF;margin-bottom:16px'>Formula <span style='color:orange'>6</span></h2>\n",
        "$$A_{n} = A_{n-1}\\, n^{[n \\text{ odd}]} \\left(\\frac4n \\right)^{[n \\text{ even}]}$$"
      ]
    },
    {
      "cell_type": "code",
      "execution_count": null,
      "metadata": {},
      "outputs": [],
      "source": [
        "@cached_function\n",
        "def F6(n):\n",
        "    if n == 0: return 1\n",
        "    return F6(n-1) * n if is_odd(n) else (F6(n-1) << 2) // n\n",
        "print [F6(n) for n in range(12)]"
      ]
    },
    {
      "cell_type": "markdown",
      "metadata": {},
      "source": [
        "<h2 style='color:#5E7AFF;margin-bottom:16px'>Formula <span style='color:orange'>7</span></h2>\n",
        "$$A_n = \\prod_{ \\substack{p \\in \\mathbb{P} \\\\ p \\le n } } p^{e_p} \\text{  with  } e_p = \\sum_{k \\ge 1} \\lfloor n\\, /\\, p^k \\rfloor \\text{ mod } 2$$"
      ]
    },
    {
      "cell_type": "code",
      "execution_count": null,
      "metadata": {},
      "outputs": [],
      "source": [
        "def F7(n):\n",
        "    factors = []\n",
        "    for prime in primes(2, n+1):\n",
        "        p, q = 1, n\n",
        "        while True:\n",
        "            q //= prime\n",
        "            if q == 0: break\n",
        "            if q & 1 == 1:\n",
        "                p *= prime\n",
        "        if p > 1: factors.append(p)\n",
        "    return mul(factors)\n",
        "\n",
        "check(F7, Swing, 12)"
      ]
    },
    {
      "cell_type": "markdown",
      "metadata": {},
      "source": [
        "<h2 style='color:#5E7AFF;margin-bottom:16px'>Formula <span style='color:orange'>8</span></h2>\n",
        "$$A_{n}= \\frac{n!}{\\lfloor n/2 \\rfloor ^2 }$$"
      ]
    },
    {
      "cell_type": "code",
      "execution_count": null,
      "metadata": {},
      "outputs": [],
      "source": [
        "F8 = lambda n: factorial(n) // factorial(n//2)^2\n",
        "check(F8, Swing, 12)"
      ]
    },
    {
      "cell_type": "markdown",
      "metadata": {},
      "source": [
        "<h2 style='color:#5E7AFF;margin-bottom:16px'>Formula <span style='color:orange'>9</span></h2>\n",
        "$$A_{n} = \\binom{n}{ \\lfloor n \\,/\\,2 \\rfloor, \\ n\\ \\text{mod} \\ 2\\, ,\\ \\lfloor n \\,/\\,2 \\rfloor }$$"
      ]
    },
    {
      "cell_type": "code",
      "execution_count": null,
      "metadata": {},
      "outputs": [],
      "source": [
        "F9 = lambda n: multinomial([n//2, n % 2, n//2])\n",
        "[F9(n) for n in range(12)]"
      ]
    },
    {
      "cell_type": "markdown",
      "metadata": {},
      "source": [
        "<h2 style='color:#5E7AFF;margin-bottom:16px'>Formula <span style='color:orange'>10</span></h2>\n",
        "$$A_n = 2^n \\prod_{0 \\le k < n} \\left( \\frac{k+1}{2} \\right) ^{(-1)^k} = 2^{n - (n \\ \\text{mod}\\ 2)} \\prod_{1 \\le k \\le n} k^{(-1)^{k+1}}$$"
      ]
    },
    {
      "cell_type": "code",
      "execution_count": null,
      "metadata": {},
      "outputs": [],
      "source": [
        "F10 = lambda n: 2^(n - (n % 2)) * prod(k^((-1)^(k+1)) for k in (1..n))\n",
        "check(F10, Swing, 12)"
      ]
    },
    {
      "cell_type": "markdown",
      "metadata": {},
      "source": [
        "<h2 style='color:#5E7AFF;margin-bottom:16px'>Formula <span style='color:orange'>11</span></h2>\n",
        "$$A_n = \\operatorname{lcm} \\left( \\binom{n}{ \\lfloor n\\,/\\,2 \\rfloor}, \\binom{n-1}{ \\lfloor (n-1)\\,/\\,2 \\rfloor} \\right)$$"
      ]
    },
    {
      "cell_type": "code",
      "execution_count": null,
      "metadata": {},
      "outputs": [],
      "source": [
        "F11_lhs = lambda n: Swing.number(n)\n",
        "F11_rhs = lambda n: lcm(binomial(n, n//2), binomial(n-1, (n-1)//2))\n",
        "check(F11_lhs, F11_rhs, 12)"
      ]
    },
    {
      "cell_type": "markdown",
      "metadata": {},
      "source": [
        "<h2 style='color:#5E7AFF;margin-bottom:16px'>Formula <span style='color:orange'>12</span></h2>\n",
        "$$\\frac{A_n}{ \\lfloor n\\,/\\,2 \\rfloor + 1 } = \\operatorname{gcd} \\left( \\binom{n+1}{ \\lfloor (n+1)\\,/\\,2 \\rfloor}, \\binom{n}{ \\lfloor n\\,/\\,2 \\rfloor} \\right)$$"
      ]
    },
    {
      "cell_type": "code",
      "execution_count": null,
      "metadata": {},
      "outputs": [],
      "source": [
        "F12_lhs = lambda n: Swing.number(n) // ((n//2) + 1)\n",
        "F12_rhs = lambda n: gcd(binomial(n+1, (n+1)//2), binomial(n, n//2))\n",
        "check(F12_lhs, F12_rhs, 12)"
      ]
    },
    {
      "cell_type": "markdown",
      "metadata": {},
      "source": [
        "<h2 style='color:#5E7AFF;margin-bottom:16px'>Formula <span style='color:orange'>13</span></h2>\n",
        "$$A_{2n} = \\binom{2n}{n}$$"
      ]
    },
    {
      "cell_type": "code",
      "execution_count": null,
      "metadata": {},
      "outputs": [],
      "source": [
        "F13_lhs = lambda n: Swing.number(2*n)\n",
        "F13_rhs = lambda n: binomial(2*n, n)\n",
        "check(F13_lhs, F13_lhs, 12)"
      ]
    },
    {
      "cell_type": "markdown",
      "metadata": {},
      "source": [
        "<h2 style='color:#5E7AFF;margin-bottom:16px'>Formula <span style='color:orange'>14</span></h2>\n",
        "$$\\prod_{j=0..n} A_j = \\frac{1}{ \\left(\\operatorname{H}_2\\left((k+1)^{-1} \\right) \\right)_n }$$"
      ]
    },
    {
      "cell_type": "code",
      "execution_count": null,
      "metadata": {},
      "outputs": [],
      "source": [
        "def n_inv():\n",
        "    k = 0\n",
        "    while True:\n",
        "        yield 1/(k+1)\n",
        "        k += 1\n",
        "\n",
        "H = hankel2_trans(n_inv())\n",
        "print [1/H.next() for _ in range(9)]\n",
        "\n",
        "P = partial_prod(Swing.generator())\n",
        "print [P.next() for _ in range(9)]"
      ]
    },
    {
      "cell_type": "markdown",
      "metadata": {},
      "source": [
        "<h2 style='color:#5E7AFF;margin-bottom:16px'>Formula <span style='color:orange'>15</span></h2>\n",
        "$$A(z) =\\frac{2^{z}}{\\sqrt{\\pi}}\\left(\\frac{\\Gamma\\left(z\\,/\\,2+1\\,/\\,2\\right)}{\\Gamma\\left(z\\,/\\,2+1\\right)}\\right)^{\\cos z\\pi}$$"
      ]
    },
    {
      "cell_type": "code",
      "execution_count": null,
      "metadata": {},
      "outputs": [],
      "source": [
        "F15 = lambda z: (2^z/sqrt(pi))*(gamma(z/2+1/2)/gamma(z/2+1))^cos(z*pi)\n",
        "check(F15, Swing, 12)"
      ]
    },
    {
      "cell_type": "markdown",
      "metadata": {},
      "source": [
        "<h2 style='color:#5E7AFF;margin-bottom:16px'>Formula <span style='color:orange'>16</span></h2>\n",
        "$$A(z)\\,=\\frac{2^{z}}{\\sqrt{\\pi}} \\, \\left( \\frac{1}{\\sqrt{\\pi}} \\int\\limits_{-\\pi /2}^{\\pi/2} \\bigl( \\cos t \\bigr) ^{z}\\,dt \\right) ^{\\cos z\\pi} \\quad (\\mathop{\\mathrm Re} z > -1)$$"
      ]
    },
    {
      "cell_type": "code",
      "execution_count": null,
      "metadata": {},
      "outputs": [],
      "source": [
        "def F16(z):\n",
        "    t = var(\"t\")\n",
        "    T = integral(cos(t)^z, t, -pi/2, pi/2)\n",
        "    return (2^z/sqrt(pi))*((1/sqrt(pi))*T)^cos(z*pi)\n",
        "\n",
        "[F16(n) for n in range(10)]"
      ]
    },
    {
      "cell_type": "markdown",
      "metadata": {},
      "source": [
        "<h2 style='color:#5E7AFF;margin-bottom:16px'>Formula <span style='color:orange'>17</span></h2>\n",
        "$$A(x) \\, \\sim \\frac{2^{x}}{\\sqrt{\\pi}}\\left(\\frac{8}{\\chi}\\right)^{C / 2} \\left(1-C\\left(\\frac{1}{\\chi^{2}}-\\frac{20+C}{2\\chi^{4}} + \\ldots\\right)\\right)$$"
      ]
    },
    {
      "cell_type": "code",
      "execution_count": null,
      "metadata": {},
      "outputs": [],
      "source": [
        "def F17(x):\n",
        "    chi = 4*x + 2\n",
        "    C = cos(pi*x)\n",
        "    A = 1/chi^2-(20+C)/(2*chi^4)+(1952+60*C+C^2)/(6*chi^6)\n",
        "    return 2^x*(8/chi)^(C/2)*(1-C*A)/sqrt(pi)\n",
        "print [F17(n).n() for n in (1..10)]"
      ]
    }
  ],
  "metadata": {
    "kernelspec": {
      "display_name": "Python 2",
      "language": "python",
      "name": "python2"
    },
    "language_info": {
      "codemirror_mode": {
        "name": "ipython",
        "version": 2
      },
      "file_extension": ".py",
      "mimetype": "text/x-python",
      "name": "python",
      "nbconvert_exporter": "python",
      "pygments_lexer": "ipython2",
      "version": "2.7.8"
    },
    "name": "OLMS-Swing.ipynb"
  },
  "nbformat": 4,
  "nbformat_minor": 0
}