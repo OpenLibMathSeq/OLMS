{
  "cells": [
    {
      "cell_type": "markdown",
      "metadata": {},
      "source": [
        "<h1 style='color:#5E7AFF'>OLMS-Lah numbers</h1>\n",
        "<p>This SageMath notebook is the companion of this <a href='http://olms.onl/Lah/OLMS-Lah.html'>OLMS PAGE</a>. You can download the notebook from <a href='https://github.com/OpenLibMathSeq/OLMS/tree/master/Notebooks/'>GitHub</a>.</p>\n"
      ]
    },
    {
      "cell_type": "code",
      "execution_count": null,
      "metadata": {},
      "outputs": [],
      "source": [
        "load('http://olms.onl/Sagemath/OLMS-notebook.sage')\n"
      ]
    },
    {
      "cell_type": "markdown",
      "metadata": {},
      "source": [
        "<h2 style='color:#5E7AFF'>Sage class</h2>\n"
      ]
    },
    {
      "cell_type": "code",
      "execution_count": null,
      "metadata": {},
      "outputs": [],
      "source": [
        "class LahClass(OLMS2):\n",
        "\n",
        "    def row_generator(self):\n",
        "        yield[1]\n",
        "        L, n = [0], 0\n",
        "        while True:\n",
        "            L.append(1)\n",
        "            for k in range(n, 0, -1):\n",
        "                L[k] = L[k] * (n + k) + L[k - 1]\n",
        "            yield L\n",
        "            n += 1"
      ]
    },
    {
      "cell_type": "markdown",
      "metadata": {},
      "source": [
        "We assume that the reference below is declared throughout the notebook.\n"
      ]
    },
    {
      "cell_type": "code",
      "execution_count": null,
      "metadata": {},
      "outputs": [],
      "source": [
        "Lah = LahClass()"
      ]
    },
    {
      "cell_type": "markdown",
      "metadata": {},
      "source": [
        "Note that the class provides functions which are more efficient than the use of list comprehensions.\n"
      ]
    },
    {
      "cell_type": "code",
      "execution_count": null,
      "metadata": {},
      "outputs": [],
      "source": [
        "print [[Lah(n,k) for k in (0..n)] for n in range(6)] # (slow)\n",
        "print Lah.triangle(6) # based on generator (fast)"
      ]
    },
    {
      "cell_type": "markdown",
      "metadata": {},
      "source": [
        "<h2 style='color:#5E7AFF;margin-bottom:16px'>Formula <span style='color:orange'>1</span></h2>\n",
        "$$T_{n,\\,n} = 1, \\ T_{n,\\,k} = 0 \\ (k \\lt 0), \\\\ T_{n,\\,k} \\ = \\ T_{n-1,\\,k-1} + (n+k-1)T_{n-1,\\,k}$$"
      ]
    },
    {
      "cell_type": "code",
      "execution_count": null,
      "metadata": {},
      "outputs": [],
      "source": [
        "def F1(n,k):\n",
        "    if n==k: return 1\n",
        "    if k<0 or k>n: return 0\n",
        "    return F1(n-1,k-1) + (n+k-1)*F1(n-1,k)\n",
        "\n",
        "for n in range(8): print [F1(n,k) for k in(0..n)]\n",
        "Lah.triangle(8)"
      ]
    },
    {
      "cell_type": "markdown",
      "metadata": {},
      "source": [
        "<h2 style='color:#5E7AFF;margin-bottom:16px'>Formula <span style='color:orange'>2</span></h2>\n",
        "$$L_n(x) \\ = \\  \\sum_{0 \\le k \\le n} T_{n,k}\\, x^k$$"
      ]
    },
    {
      "cell_type": "code",
      "execution_count": null,
      "metadata": {},
      "outputs": [],
      "source": [
        "F2 = lambda n, x: sum(Lah(n,k)*x^k for k in (0..n))\n",
        "for n in (0..7): print F2(n,x) # (slow)\n",
        "Lah.polynomials(8) # based on generator (fast)"
      ]
    },
    {
      "cell_type": "markdown",
      "metadata": {},
      "source": [
        "<h2 style='color:#5E7AFF;margin-bottom:16px'>Formula <span style='color:orange'>3</span></h2>\n",
        "$$L_n(x) \\ = \\ n!\\, [t^n]\\, \\exp\\left(\\frac{tx}{1-t}\\right)$$"
      ]
    },
    {
      "cell_type": "code",
      "execution_count": null,
      "metadata": {},
      "outputs": [],
      "source": [
        "t = var('t')\n",
        "F3 = exp(t*x/(1-t))\n",
        "for poly in EGF(F3, 7): print poly"
      ]
    },
    {
      "cell_type": "markdown",
      "metadata": {},
      "source": [
        "<h2 style='color:#5E7AFF;margin-bottom:16px'>Formula <span style='color:orange'>4</span></h2>\n",
        "$$L_n(x) \\ = \\ n! \\,x\\,  F\\left(\\genfrac{}{\\vert}{0pt}{}{-n+1}{2} -x \\right) \\quad (n \\ge 1)$$"
      ]
    },
    {
      "cell_type": "code",
      "execution_count": null,
      "metadata": {},
      "outputs": [],
      "source": [
        "F4 = lambda n, x: factorial(n)*x*hypergeom([1-n],[2],-x) if n>0 else 1\n",
        "for n in (0..7): print expand(F4(n,x))"
      ]
    },
    {
      "cell_type": "markdown",
      "metadata": {},
      "source": [
        "<h2 style='color:#5E7AFF;margin-bottom:16px'>Formula <span style='color:orange'>5</span></h2>\n",
        "$$L_n(x) \\ = \\  (-1)^{n-1} \\,x\\, U_{1-n,2}(-x)$$"
      ]
    },
    {
      "cell_type": "code",
      "execution_count": null,
      "metadata": {},
      "outputs": [],
      "source": [
        "F5 = lambda n, x: (-1)^(n-1)*x*hypergeometric_U(1-n, 2, -x)\n",
        "for n in (0..6): print expand(F5(n,x).simplify_hypergeometric())"
      ]
    },
    {
      "cell_type": "markdown",
      "metadata": {},
      "source": [
        "<h2 style='color:#5E7AFF;margin-bottom:16px'>Formula <span style='color:orange'>6</span></h2>\n",
        "$$L_n(x) \\ = \\ (n-1)! \\,x\\,  L_{n-1}^{(1)}(-x) \\quad (n \\ge 1)$$"
      ]
    },
    {
      "cell_type": "code",
      "execution_count": null,
      "metadata": {},
      "outputs": [],
      "source": [
        "F6 = lambda n, x: factorial(n-1)*x*gen_laguerre(n-1,1,-x) if n>0 else 1\n",
        "for n in (0..7): print expand(F6(n,x))"
      ]
    },
    {
      "cell_type": "markdown",
      "metadata": {},
      "source": [
        "<h2 style='color:#5E7AFF;margin-bottom:16px'>Formula <span style='color:orange'>7</span></h2>\n",
        "$$x^n \\, L_n(1/x) \\ = \\  F\\left(\\genfrac{}{\\vert}{0pt}{}{-n+1,\\,-n}{-} {x} \\right) $$"
      ]
    },
    {
      "cell_type": "code",
      "execution_count": null,
      "metadata": {},
      "outputs": [],
      "source": [
        "P = Lah.polynomials(8)\n",
        "F7_lhs = lambda n, x: x^n*P[n](x=1/x)\n",
        "F7_rhs = lambda n, x: hypergeom([-n,-n+1],[], x)\n",
        "for n in (0..7): print expand(F7_lhs(n, x))\n",
        "for n in (0..7): print expand(F7_rhs(n, x))"
      ]
    },
    {
      "cell_type": "markdown",
      "metadata": {},
      "source": [
        "<h2 style='color:#5E7AFF;margin-bottom:16px'>Formula <span style='color:orange'>8</span></h2>\n",
        "$$S_n(x) \\  = \\  \\delta_{n,0} + \\sum_{k=0}^{2n} x^k \\sum_{j=0}^{k-1} \\genfrac{ [ }{ ] }{0pt}{}{n+1}{j+1} \\genfrac{ [ }{ ] }{0pt}{}{n}{k-j}$$"
      ]
    },
    {
      "cell_type": "code",
      "execution_count": null,
      "metadata": {},
      "outputs": [],
      "source": [
        "F8 = lambda n, x: sum(x^k*sum(stirling_number1(n+1,j+1)*stirling_number1(n,k-j)\\\n",
        "for j in (0..k-1)) for k in (0..2*n)) if n>0 else 1\n",
        "for n in (0..5): print F8(n,x).list()"
      ]
    },
    {
      "cell_type": "markdown",
      "metadata": {},
      "source": [
        "<h2 style='color:#5E7AFF;margin-bottom:16px'>Formula <span style='color:orange'>9</span></h2>\n",
        "$$T_{n+k,\\, k} \\ = \\ S_n(k) / n!$$"
      ]
    },
    {
      "cell_type": "code",
      "execution_count": null,
      "metadata": {},
      "outputs": [],
      "source": [
        "for n in (0..6): print [F8(n, k)/factorial(n) for k in range(7)]\n",
        "for n in (0..6): print Lah.rectangle().row(n,7)"
      ]
    },
    {
      "cell_type": "markdown",
      "metadata": {},
      "source": [
        "<h2 style='color:#5E7AFF;margin-bottom:16px'>Formula <span style='color:orange'>10</span></h2>\n",
        "$$G_n(x) \\ = \\ -\\sum_{k=0}^n \\frac{(n+1)!}{k+1} \\binom{n+k}{n} \\binom{n}{k} (x-1)^{-(n+k+1)}$$"
      ]
    },
    {
      "cell_type": "code",
      "execution_count": null,
      "metadata": {},
      "outputs": [],
      "source": [
        "F10 = lambda n,x: -sum((factorial(n+1)/(k+1))*binomial(n+k,n)\\\n",
        "*binomial(n,k)/(x-1)^(n+k+1) for k in(0..n))"
      ]
    },
    {
      "cell_type": "markdown",
      "metadata": {},
      "source": [
        "<h2 style='color:#5E7AFF;margin-bottom:16px'>Formula <span style='color:orange'>11</span></h2>\n",
        "$$T_{n+k,\\, k} \\  = \\  [x^k] \\, G_n(x)$$"
      ]
    },
    {
      "cell_type": "code",
      "execution_count": null,
      "metadata": {},
      "outputs": [],
      "source": [
        "for n in (0..6): print F10(n,x).taylor(x, 0, 6).list()\n",
        "for n in (0..6): print Lah.rectangle().row(n,7)"
      ]
    },
    {
      "cell_type": "markdown",
      "metadata": {},
      "source": [
        "<h2 style='color:#5E7AFF;margin-bottom:16px'>Formula <span style='color:orange'>12</span></h2>\n",
        "$$R_n(x) \\  = \\  \\frac{d^n}{d x^n} \\left( \\frac{1}{n!} \\left( \\frac{x}{1-x} \\right)^n \\right)$$"
      ]
    },
    {
      "cell_type": "code",
      "execution_count": null,
      "metadata": {},
      "outputs": [],
      "source": [
        "F12 = lambda n: diff((x/(1-x))^n/factorial(n),x,n)"
      ]
    },
    {
      "cell_type": "markdown",
      "metadata": {},
      "source": [
        "<h2 style='color:#5E7AFF;margin-bottom:16px'>Formula <span style='color:orange'>13</span></h2>\n",
        "$$T_{n+k,\\, n} \\  = \\  k! \\, [x^k] R_n(x) \\quad (n \\ge 1)$$"
      ]
    },
    {
      "cell_type": "code",
      "execution_count": null,
      "metadata": {},
      "outputs": [],
      "source": [
        "f = [factorial(k) for k in (0..6)]\n",
        "for n in (1..5):\n",
        "    t = F12(n).taylor(x,0,6).list()\n",
        "    print [a*b for a,b in zip(t, f)]\n",
        "for n in (1..5):\n",
        "    print Lah.rectangle().column(n,7)"
      ]
    },
    {
      "cell_type": "markdown",
      "metadata": {},
      "source": [
        "<h2 style='color:#5E7AFF;margin-bottom:16px'>Formula <span style='color:orange'>14</span></h2>\n",
        "$$T_{n,\\, k} \\ = \\  \\frac{n!}{k!} \\left[ 1 \\mid \\frac{x}{1-x} \\right]_{n,\\ k}$$"
      ]
    },
    {
      "cell_type": "code",
      "execution_count": null,
      "metadata": {},
      "outputs": [],
      "source": [
        "F14 = lambda n: riordan_array(1, x/(1-x), n, exp=true)\n",
        "print F14(8)"
      ]
    },
    {
      "cell_type": "markdown",
      "metadata": {},
      "source": [
        "<h2 style='color:#5E7AFF;margin-bottom:16px'>Formula <span style='color:orange'>15</span></h2>\n",
        "$$T_{n,\\,k} \\ = \\ \\sum \\limits_{j\\,=\\,k}^{n} \\genfrac[]{0pt}{}{n}{j} \\genfrac\\{\\}{0pt}{}{j}{k}$$"
      ]
    },
    {
      "cell_type": "code",
      "execution_count": null,
      "metadata": {},
      "outputs": [],
      "source": [
        "F15 = lambda n, k: sum(stirling_number1(n,j)*stirling_number2(j,k,'gap') for j in (k..n))\n",
        "for n in (-5..5): print([F15(n,k) for k in (-5..5)])"
      ]
    },
    {
      "cell_type": "markdown",
      "metadata": {},
      "source": [
        "<h2 style='color:#5E7AFF;margin-bottom:16px'>Formula <span style='color:orange'>16</span></h2>\n",
        "$$T_{n,\\,k} \\ = \\ (n-k)! \\binom{n}{n-k} \\binom{n-1}{n-k}$$"
      ]
    },
    {
      "cell_type": "code",
      "execution_count": null,
      "metadata": {},
      "outputs": [],
      "source": [
        "F16 = lambda n,k: factorial(n-k)*binomial(n,n-k)*binomial(n-1,n-k)\n",
        "for n in range(8): print [F16(n,k) for k in (0..n)]\n",
        "Lah.triangle(8)"
      ]
    },
    {
      "cell_type": "markdown",
      "metadata": {},
      "source": [
        "<h2 style='color:#5E7AFF;margin-bottom:16px'>Formula <span style='color:orange'>17</span></h2>\n",
        "$$\\frac{T_{n,\\,k}}{(n-k)!} \\  = \\  \\binom{n}{n-k} \\binom{n-1}{n-k}$$"
      ]
    },
    {
      "cell_type": "code",
      "execution_count": null,
      "metadata": {},
      "outputs": [],
      "source": [
        "F17_lhs = lambda n,k: Lah(n,k)/factorial(n-k)\n",
        "F17_rhs = lambda n,k: binomial(n,n-k)*binomial(n-1,n-k)\n",
        "check2(F17_lhs, F17_rhs, 8)"
      ]
    },
    {
      "cell_type": "markdown",
      "metadata": {},
      "source": [
        "<h2 style='color:#5E7AFF;margin-bottom:16px'>Formula <span style='color:orange'>18</span></h2>\n",
        "$$T_{n,\\,k} \\  = \\  (n-k+1)! \\, N_{n,\\,k}$$"
      ]
    },
    {
      "cell_type": "code",
      "execution_count": null,
      "metadata": {},
      "outputs": [],
      "source": [
        "N = lambda n,k: binomial(n,n-k)*binomial(n-1,n-k)/(n-k+1)\n",
        "F18 = lambda n,k: factorial(n-k+1)*N(n,k)\n",
        "for n in range(8): print [F18(n,k) for k in (0..n)]\n",
        "Lah.triangle(8)"
      ]
    },
    {
      "cell_type": "markdown",
      "metadata": {},
      "source": [
        "<h2 style='color:#5E7AFF;margin-bottom:16px'>Formula <span style='color:orange'>19</span></h2>\n",
        "$$T_{n,\\,k} \\  = \\  \\frac{n\\,k}{(n-k)!} \\left((n-1)^\\underline{n-k-1}\\right)^2 \\quad (n \\ge 1)$$"
      ]
    },
    {
      "cell_type": "code",
      "execution_count": null,
      "metadata": {},
      "outputs": [],
      "source": [
        "F19 = lambda n, k: n*k*falling_factorial(n-1,n-k-1)^2/factorial(n-k) if n>0 else 1\n",
        "for n in range(8): print [F19(n,k) for k in (0..n)]\n",
        "Lah.triangle(8)"
      ]
    },
    {
      "cell_type": "markdown",
      "metadata": {},
      "source": [
        "<h2 style='color:#5E7AFF;margin-bottom:16px'>Formula <span style='color:orange'>20</span></h2>\n",
        "$$T_{n+k,\\,k} \\ = \\ \\frac{(n+k)!}{k!} \\binom{n+k-1}{k-1}$$"
      ]
    },
    {
      "cell_type": "code",
      "execution_count": null,
      "metadata": {},
      "outputs": [],
      "source": [
        "F20 = lambda n,k: factorial(n+k)*Binomial(n+k-1,k-1)/factorial(k) # Binomial!\n",
        "for n in (0..6): print [F20(n,k) for k in range(7)]\n",
        "for n in (0..6): print Lah.rectangle().row(n,7)"
      ]
    },
    {
      "cell_type": "markdown",
      "metadata": {},
      "source": [
        "<h2 style='color:#5E7AFF;margin-bottom:16px'>Formula <span style='color:orange'>21</span></h2>\n",
        "$$T_{n+k,\\,n} \\  = \\  \\frac{(n+k)!}{n!} \\binom{n+k-1}{n-1} \\quad (n \\ge 1)$$"
      ]
    },
    {
      "cell_type": "code",
      "execution_count": null,
      "metadata": {},
      "outputs": [],
      "source": [
        "F21 = lambda n, k: factorial(n+k)*Binomial(n+k-1,n-1)/factorial(n) # Binomial!\n",
        "for n in (0..5): print [F21(n,k) for k in range(7)]\n",
        "for n in (0..5): print Lah.rectangle().column(n,7)"
      ]
    },
    {
      "cell_type": "markdown",
      "metadata": {},
      "source": [
        "<h2 style='color:#5E7AFF;margin-bottom:16px'>Formula <span style='color:orange'>22</span></h2>\n",
        "$$T_{2n,\\,n} \\ = \\  (n+1)! \\binom{2n-1}{n} \\, C_{n}$$"
      ]
    },
    {
      "cell_type": "code",
      "execution_count": null,
      "metadata": {},
      "outputs": [],
      "source": [
        "F22 = lambda n: factorial(n+1)*binomial(2*n-1,n)*catalan_number(n)\n",
        "print [F22(n) for n in range(8)]\n",
        "print Lah.triangle().center(8)"
      ]
    },
    {
      "cell_type": "markdown",
      "metadata": {},
      "source": [
        "<h2 style='color:#5E7AFF;margin-bottom:16px'>Formula <span style='color:orange'>23</span></h2>\n",
        "$$T_{2n,\\,n} \\ = \\ \\frac{2}{n} \\frac{\\Gamma(2n)^2}{\\Gamma(n)^3} \\quad (n \\ge 1)$$"
      ]
    },
    {
      "cell_type": "code",
      "execution_count": null,
      "metadata": {},
      "outputs": [],
      "source": [
        "F23 = lambda n: 2*gamma(2*n)^2/(n*gamma(n)^3) if n>0 else 1\n",
        "print [F23(n) for n in range(8)]\n",
        "print Lah.triangle().center(8)"
      ]
    },
    {
      "cell_type": "markdown",
      "metadata": {},
      "source": [
        "<h2 style='color:#5E7AFF;margin-bottom:16px'>Formula <span style='color:orange'>24</span></h2>\n",
        "$$\\mathbb{T}_n(1) \\ = \\ \\sum \\limits_{k=0}^{n} \\genfrac[]{0pt}{}{n}{k} B_{k}$$"
      ]
    },
    {
      "cell_type": "code",
      "execution_count": null,
      "metadata": {},
      "outputs": [],
      "source": [
        "F24_rhs = lambda n: sum(stirling_number1(n,k)*bell_number(k) for k in (0..n))\n",
        "F24_lhs = Lah.transform(const(1))\n",
        "check(F24_lhs, F24_rhs, 9)"
      ]
    },
    {
      "cell_type": "markdown",
      "metadata": {},
      "source": [
        "<h2 style='color:#5E7AFF;margin-bottom:16px'>Formula <span style='color:orange'>25</span></h2>\n",
        "$$\\mathbb{T}_n(1) \\ = \\  (-1)^{n-1} U_{1-n,2}(-1)$$"
      ]
    },
    {
      "cell_type": "code",
      "execution_count": null,
      "metadata": {},
      "outputs": [],
      "source": [
        "# For n>14 adjust the precision!\n",
        "F25_rhs = lambda n: round((-1)^(n+1)*hypergeometric_U(1-n, 2, -1))\n",
        "F25_lhs = Lah.transform(const(1))\n",
        "check(F25_lhs, F25_rhs, 9)"
      ]
    },
    {
      "cell_type": "markdown",
      "metadata": {},
      "source": [
        "<h2 style='color:#5E7AFF;margin-bottom:16px'>Formula <span style='color:orange'>26</span></h2>\n",
        "$$\\mathbb{T}_n^{*}(1) \\ = \\ F\\left(\\genfrac{}{\\vert}{0pt}{}{-n+1,\\,-n}{-} -1\\right)$$"
      ]
    },
    {
      "cell_type": "code",
      "execution_count": null,
      "metadata": {},
      "outputs": [],
      "source": [
        "F26_lhs = Lah.transform(const(1), inv = true)\n",
        "F26_rhs = lambda n: hypergeom([-n+1,-n], [], -1)\n",
        "check(F26_lhs, F26_rhs, 11)"
      ]
    },
    {
      "cell_type": "markdown",
      "metadata": {},
      "source": [
        "<h2 style='color:#5E7AFF;margin-bottom:16px'>Formula <span style='color:orange'>27</span></h2>\n",
        "$$\\mathbb{T}_n(k) \\ = \\ \\frac{(n+1)!}{2} F\\left(\\genfrac{}{\\vert}{0pt}{}{-n+1}{3} -1\\right) \\quad (n \\ge 1)$$"
      ]
    },
    {
      "cell_type": "code",
      "execution_count": null,
      "metadata": {},
      "outputs": [],
      "source": [
        "F27_lhs = Lah.transform(count(0))\n",
        "F27_rhs = lambda n: factorial(n+1)*hypergeom([-n+1],[3],-1)/2 if n>0 else 0\n",
        "check(F27_lhs, F27_rhs, 11)"
      ]
    },
    {
      "cell_type": "markdown",
      "metadata": {},
      "source": [
        "<h2 style='color:#5E7AFF;margin-bottom:16px'>Formula <span style='color:orange'>28</span></h2>\n",
        "$$\\mathbb{T}_n(k^{2}) \\ = \\  n\\, n! \\, F\\left(\\genfrac{}{\\vert}{0pt}{}{-n+1}{2} -1\\right)$$"
      ]
    },
    {
      "cell_type": "code",
      "execution_count": null,
      "metadata": {},
      "outputs": [],
      "source": [
        "F28_lhs = Lah.transform(square())\n",
        "F28_rhs = lambda n: n*factorial(n)*hypergeom([-n+1],[2],-1)\n",
        "check(F28_lhs, F28_rhs, 11)"
      ]
    },
    {
      "cell_type": "markdown",
      "metadata": {},
      "source": [
        "<h2 style='color:#5E7AFF;margin-bottom:16px'>Formula <span style='color:orange'>29</span></h2>\n",
        "$$\\mathbb{T}_n^{*}(k^{2}) \\ = \\ (-1)^{n+1}\\,  n! \\, F\\left(\\genfrac{}{\\vert}{0pt}{}{-n+1, 2}{1, 1} 1 \\right) \\quad (n \\ge 1)$$"
      ]
    },
    {
      "cell_type": "code",
      "execution_count": null,
      "metadata": {},
      "outputs": [],
      "source": [
        "F29_lhs = Lah.transform(square(), inv = true)\n",
        "F29_rhs = lambda n: (-1)^(n+1)*factorial(n)*hypergeom([-n+1,2],[1,1],1) if n>0 else 0\n",
        "check(F29_lhs, F29_rhs, 11)"
      ]
    },
    {
      "cell_type": "markdown",
      "metadata": {},
      "source": [
        "<h2 style='color:#5E7AFF;margin-bottom:16px'>Formula <span style='color:orange'>30</span></h2>\n",
        "$$\\mathbb{T}_n(k!) \\ = \\ n! \\, 2^{n-1} \\quad  (n \\ge 1)$$"
      ]
    },
    {
      "cell_type": "code",
      "execution_count": null,
      "metadata": {},
      "outputs": [],
      "source": [
        "F30_lhs = Lah.transform(fact())\n",
        "F30_rhs = lambda n: 2^(n-1)*factorial(n) if n>0 else 1\n",
        "check(F30_lhs, F30_rhs, 11)"
      ]
    },
    {
      "cell_type": "markdown",
      "metadata": {},
      "source": [
        "<h2 style='color:#5E7AFF;margin-bottom:16px'>Formula <span style='color:orange'>31</span></h2>\n",
        "$$\\mathbb{T}_n(k+1) \\ = \\ n! \\, L_{n}(-1)$$"
      ]
    },
    {
      "cell_type": "code",
      "execution_count": null,
      "metadata": {},
      "outputs": [],
      "source": [
        "F31_lhs = Lah.transform(count(1))\n",
        "F31_rhs = lambda n: factorial(n)*laguerre(n,-1)\n",
        "check(F31_lhs, F31_rhs, 11)"
      ]
    },
    {
      "cell_type": "markdown",
      "metadata": {},
      "source": [
        "<h2 style='color:#5E7AFF;margin-bottom:16px'>Formula <span style='color:orange'>32</span></h2>\n",
        "$$\\mathbb{T}_n^{*}(k+1) \\  = \\ (-1)^n \\, n! \\, (L_{n}(1) - 2\\,L_{n-1}(1) ) \\quad (n\\ge 1)$$"
      ]
    },
    {
      "cell_type": "code",
      "execution_count": null,
      "metadata": {},
      "outputs": [],
      "source": [
        "F32_lhs = Lah.transform(count(1), inv = true)\n",
        "F32_rhs = lambda n: (-1)^n*factorial(n)*(laguerre(n,1)-2*laguerre(n-1,1)) if n>0 else 1\n",
        "check(F32_lhs, F32_rhs, 11)"
      ]
    },
    {
      "cell_type": "markdown",
      "metadata": {},
      "source": [
        "<h2 style='color:#5E7AFF;margin-bottom:16px'>Formula <span style='color:orange'>33</span></h2>\n",
        "$$\\mathbb{T}_n(x^{\\underline{k}}) \\  = \\  x^{\\overline{n}}$$"
      ]
    },
    {
      "cell_type": "code",
      "execution_count": null,
      "metadata": {},
      "outputs": [],
      "source": [
        "F33_lhs = lambda n: sum(Lah(n,k)*falling_factorial(x,k) for k in (0..n)).expand()\n",
        "F33_rhs = lambda n: rising_factorial(x,n).expand()\n",
        "check(F33_lhs, F33_rhs, 7)"
      ]
    },
    {
      "cell_type": "markdown",
      "metadata": {},
      "source": [
        "<h2 style='color:#5E7AFF;margin-bottom:16px'>Formula <span style='color:orange'>34</span></h2>\n",
        "$$T_{n,\\,k} \\ =\\  (-1)^{k} \\frac{n!}{k!} \\operatorname{P}_{n,k}(1,1,1, \\ldots)$$"
      ]
    },
    {
      "cell_type": "code",
      "execution_count": null,
      "metadata": {},
      "outputs": [],
      "source": [
        "lah = lambda n: 1\n",
        "norm = lambda n, k: (-1)^k*factorial(n)//factorial(k)\n",
        "print partition_trans(lah, 9, norm)\n",
        "print Lah.triangle(9)"
      ]
    },
    {
      "cell_type": "markdown",
      "metadata": {},
      "source": [
        "<h2 style='color:#5E7AFF;margin-bottom:16px'>Formula <span style='color:orange'>35</span></h2>\n",
        "$$T_{n,\\,k} \\  = \\  \\operatorname{B}_{n,k}( s_m = m! - 0^m; m \\ge 0)$$"
      ]
    },
    {
      "cell_type": "code",
      "execution_count": null,
      "metadata": {},
      "outputs": [],
      "source": [
        "s = lambda n: [factorial(k) - 0^k for k in (0..n)]\n",
        "for n in range(7): print [bell_trans(n,k,s(n)) for k in (0..n)]\n",
        "Lah.triangle(7)"
      ]
    },
    {
      "cell_type": "markdown",
      "metadata": {},
      "source": [
        "<h2 style='color:#5E7AFF;margin-bottom:16px'>Formula <span style='color:orange'>36</span></h2>\n",
        "$$\\operatorname{Mat}^{-1}[T_{n,k}] \\ = \\ \\operatorname{Mat}[(-1)^{n-k}T_{n,k}]$$"
      ]
    },
    {
      "cell_type": "code",
      "execution_count": null,
      "metadata": {},
      "outputs": [],
      "source": [
        "signed_lah_number = lambda n,k: (-1)^(n-k)*Lah(n,k)\n",
        "F36_rhs = lambda n: matrix(ZZ, n, signed_lah_number)\n",
        "F36_lhs = lambda n: Lah.matrix(n).inverse()\n",
        "print F36_rhs(6); print F36_lhs(6)"
      ]
    },
    {
      "cell_type": "markdown",
      "metadata": {},
      "source": [
        "<h2 style='color:#5E7AFF;margin-bottom:16px'>Formula <span style='color:orange'>37</span></h2>\n",
        "$$\\operatorname{Mat}[T_{n,k}] \\cdot \\operatorname{Mat}[S_{n,k}] \\  = \\  \\frac{n!}{k!} \\left[ 1 \\mid \\log\\left( \\frac{1-x}{1-2x} \\right) \\right]_{n,\\, k}$$"
      ]
    },
    {
      "cell_type": "code",
      "execution_count": null,
      "metadata": {},
      "outputs": [],
      "source": [
        "F37_lhs = lambda n: Lah.matrix(n)*matrix(ZZ, n, stirling_number1)\n",
        "F37_rhs = lambda n: riordan_array(1, log((1-x)/(1-2*x)), n, exp=true)\n",
        "print F37_lhs(7); print F37_rhs(7)"
      ]
    },
    {
      "cell_type": "markdown",
      "metadata": {},
      "source": [
        "<h2 style='color:#5E7AFF;margin-bottom:16px'>Formula <span style='color:orange'>38</span></h2>\n",
        "$$\\operatorname{Mat}[S_{n,k}] \\cdot \\operatorname{Mat}[T_{n,k}] \\  = \\  \\frac{n!}{k!} \\left[ 1 \\mid  \\frac{1}{2 - \\exp(x)} \\right]_{n,\\, k}$$"
      ]
    },
    {
      "cell_type": "code",
      "execution_count": null,
      "metadata": {},
      "outputs": [],
      "source": [
        "F38_lhs = lambda n: matrix(ZZ, n, stirling_number2)*Lah.matrix(n)\n",
        "F38_rhs = lambda n: riordan_array(1, 1/(2-exp(x)), n, exp=true)\n",
        "print F38_lhs(7); print F38_rhs(7)"
      ]
    },
    {
      "cell_type": "markdown",
      "metadata": {},
      "source": [
        "<h2 style='color:#5E7AFF;margin-bottom:16px'>Formula <span style='color:orange'>39</span></h2>\n",
        "$$\\overline{T}(n,k) = \\begin{cases} T(n,k) & \\text{if } n \\geq 0, \\, 0 \\leq k \\leq n; \\\\ T(-k,-n) & \\text{if }  n \\lt 0, \\, k \\lt 0; \\\\ 0 & \\text{otherwise.} \\end{cases}$$"
      ]
    },
    {
      "cell_type": "code",
      "execution_count": null,
      "metadata": {},
      "outputs": [],
      "source": [
        "def F39(n, k): # n, k in Z\n",
        "    if n == k: return 1\n",
        "    if n<0 and k<0: return F39(-k, -n)\n",
        "    if k<0 or k>n: return 0\n",
        "    return (k*n*gamma(n)^2) // (gamma(k+1)^2 * gamma(n-k+1))\n",
        "for n in (-5..5): print([F39(n,k) for k in (-5..5)])"
      ]
    },
    {
      "cell_type": "markdown",
      "metadata": {},
      "source": [
        "<h2 style='color:#5E7AFF;margin-bottom:16px'>Formula <span style='color:orange'>40</span></h2>\n",
        "$$T_{m}(n,k) = T_{m}(n-1,k-1) + (k^m + (n-1)^m)\\ T_{m}(n-1,k)$$"
      ]
    },
    {
      "cell_type": "code",
      "execution_count": null,
      "metadata": {},
      "outputs": [],
      "source": [
        "@cached_function\n",
        "def F40(m,n,k):\n",
        "    if k < 0 : return 0\n",
        "    if k == n: return 1\n",
        "    return F40(m,n-1,k-1) + (k^m + (n-1)^m)*F40(m,n-1, k)\n",
        "for m in (0..2):\n",
        "    for n in (0..8): print [F40(m,n,k) for k in (0..n)]"
      ]
    },
    {
      "cell_type": "markdown",
      "metadata": {},
      "source": [
        "<h2 style='color:#5E7AFF;margin-bottom:16px'>Formula <span style='color:orange'>41</span></h2>\n",
        "$$T(z, w) \\ = \\ \\frac{z\\,w }{\\Gamma(z-w+1)}\\left(\\frac{\\Gamma(z)}{\\Gamma(w+1)}\\right)^2$$"
      ]
    },
    {
      "cell_type": "code",
      "execution_count": null,
      "metadata": {},
      "outputs": [],
      "source": [
        "F41 = lambda n, k: (k*n*gamma(n)^2)/(gamma(k+1)^2*gamma(n-k+1))\n",
        "print \"F41(0,0) =\", limit(F41(n + x, k + x), x=0)\n",
        "for n in (1..7): print [F41(n,k) for k in (0..n)]\n",
        "Lah.triangle(8)"
      ]
    },
    {
      "cell_type": "markdown",
      "metadata": {},
      "source": [
        "<h2 style='color:#5E7AFF;margin-bottom:16px'>Formula <span style='color:orange'>42</span></h2>\n",
        "$$16^{n-k} \\, T\\left(n+\\frac12, \\, k+\\frac12\\right) \\ = \\ \\frac{(n+1)^{\\overline{n}}} {(k+1)^{\\overline{k}}} \\frac{(n+2)^{\\overline{n+1}}} {(k+2)^{\\overline{k+1}}} \\frac{1}{(n-k)!}$$"
      ]
    },
    {
      "cell_type": "code",
      "execution_count": null,
      "metadata": {},
      "outputs": [],
      "source": [
        "f = lambda n,k: rising_factorial(n+1,n)//rising_factorial(k+1,k)\n",
        "F42 = lambda n,k: f(n,k)*f(n+1,k+1)//factorial(n-k)\n",
        "for n in (0..6): print [16^(n-k)*F41(n+1/2, k+1/2) for k in (0..n)]\n",
        "for n in (0..6): print [F42(n,k) for k in (0..n)]"
      ]
    }
  ],
  "metadata": {
    "kernelspec": {
      "display_name": "Python 2",
      "language": "python",
      "name": "python2"
    },
    "language_info": {
      "codemirror_mode": {
        "name": "ipython",
        "version": 2
      },
      "file_extension": ".py",
      "mimetype": "text/x-python",
      "name": "python",
      "nbconvert_exporter": "python",
      "pygments_lexer": "ipython2",
      "version": "2.7.8"
    },
    "name": "OLMS-Lah.ipynb"
  },
  "nbformat": 4,
  "nbformat_minor": 0
}