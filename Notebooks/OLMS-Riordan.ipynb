{
  "cells": [
    {
      "cell_type": "markdown",
      "metadata": {},
      "source": [
        "<h1 style='color:#5E7AFF'>OLMS-Riordan numbers</h1>\n",
        "<p>This SageMath notebook is the companion of this <a href='http://olms.onl/Riordan/OLMS-Riordan.html'>OLMS PAGE</a>. You can download the notebook from <a href='https://github.com/OpenLibMathSeq/OLMS/tree/master/Notebooks/'>GitHub</a>.</p>\n"
      ]
    },
    {
      "cell_type": "code",
      "execution_count": null,
      "metadata": {},
      "outputs": [],
      "source": [
        "load('http://olms.onl/Sagemath/OLMS-notebook.sage')\n"
      ]
    },
    {
      "cell_type": "markdown",
      "metadata": {},
      "source": [
        "<h2 style='color:#5E7AFF'>Sage class</h2>\n"
      ]
    },
    {
      "cell_type": "code",
      "execution_count": null,
      "metadata": {},
      "outputs": [],
      "source": [
        "class RiordanClass(OLMS1):\n",
        "    def generator(self):   # generator\n",
        "        a, b, n = 1, 0, 1\n",
        "        yield a\n",
        "        while True:\n",
        "            yield b\n",
        "            n += 1\n",
        "            a, b = b, (2*b+3*a)*(n-1)//(n+1)"
      ]
    },
    {
      "cell_type": "markdown",
      "metadata": {},
      "source": [
        "We assume that the reference below is declared throughout the notebook.\n"
      ]
    },
    {
      "cell_type": "code",
      "execution_count": null,
      "metadata": {},
      "outputs": [],
      "source": [
        "Riordan = RiordanClass()"
      ]
    },
    {
      "cell_type": "markdown",
      "metadata": {},
      "source": [
        "Note that the class provides functions which are more efficient than the use of list comprehensions.\n"
      ]
    },
    {
      "cell_type": "code",
      "execution_count": null,
      "metadata": {},
      "outputs": [],
      "source": [
        "print[Riordan(n) for n in range(12)] # slow\n",
        "print Riordan.sequence(12) # via generator (fast)"
      ]
    },
    {
      "cell_type": "markdown",
      "metadata": {},
      "source": [
        "<h2 style='color:#5E7AFF;margin-bottom:16px'>Formula <span style='color:orange'>1</span></h2>\n",
        "$$A_{n} \\ = \\ \\frac{n-1}{n+1}(2\\,A_{n-1}+3\\,A_{n-2})$$"
      ]
    },
    {
      "cell_type": "code",
      "execution_count": null,
      "metadata": {},
      "outputs": [],
      "source": [
        "@cached_function\n",
        "def F1(n):\n",
        "    if n==0: return 1\n",
        "    if n==1: return 0\n",
        "    return (2*F1(n-1)+3*F1(n-2))*(n-1)//(n+1)\n",
        "print [F1(n) for n in range(12)]"
      ]
    },
    {
      "cell_type": "markdown",
      "metadata": {},
      "source": [
        "<h2 style='color:#5E7AFF;margin-bottom:16px'>Formula <span style='color:orange'>2</span></h2>\n",
        "$$A_{n} \\ = \\ [x^n] \\frac{2}{1+x+\\sqrt {(1+x)(1-3\\,x)}}$$"
      ]
    },
    {
      "cell_type": "code",
      "execution_count": null,
      "metadata": {},
      "outputs": [],
      "source": [
        "F2 = 2/(1+x+sqrt((1+x)*(1-3*x)))\n",
        "print taylor(F2, x, 0, 11).list()"
      ]
    },
    {
      "cell_type": "markdown",
      "metadata": {},
      "source": [
        "<h2 style='color:#5E7AFF;margin-bottom:16px'>Formula <span style='color:orange'>3</span></h2>\n",
        "$$A_{n} \\, = \\, n!\\, [x^n]\\, e^{x} (\\operatorname{I}_0(2\\,x) - \\operatorname{I}_1(2\\,x))$$"
      ]
    },
    {
      "cell_type": "code",
      "execution_count": null,
      "metadata": {},
      "outputs": [],
      "source": [
        "F3 = exp(x)*(bessel_I(0, 2*x)-bessel_I(1, 2*x))\n",
        "print [factorial(n)*c for n, c in enumerate(taylor(F3, x, 0, 11).list())]"
      ]
    },
    {
      "cell_type": "markdown",
      "metadata": {},
      "source": [
        "<h2 style='color:#5E7AFF;margin-bottom:16px'>Formula <span style='color:orange'>4</span></h2>\n",
        "$$A_{n} \\ = \\  (-1)^{n} \\operatorname{F}\\left(\\genfrac{}{\\vert}{0pt}{}{-n,1/2}{2} 4\\right)$$"
      ]
    },
    {
      "cell_type": "code",
      "execution_count": null,
      "metadata": {},
      "outputs": [],
      "source": [
        "F4 = lambda n: (-1)^n*hypergeom([-n,1/2],[2],4)\n",
        "check(F4, Riordan, 12)"
      ]
    },
    {
      "cell_type": "markdown",
      "metadata": {},
      "source": [
        "<h2 style='color:#5E7AFF;margin-bottom:16px'>Formula <span style='color:orange'>5</span></h2>\n",
        "$$A_{n} \\ = \\  \\frac{(-1)^{n}}{n+1} \\operatorname{P}_n^{(1,\\,-n-3/2)}\\, (-7)$$"
      ]
    },
    {
      "cell_type": "code",
      "execution_count": null,
      "metadata": {},
      "outputs": [],
      "source": [
        "F5 = lambda n: (-1)^n*jacobi_P(n,1,-n-3/2,-7)//(n+1)\n",
        "check(F5, Riordan, 12)"
      ]
    },
    {
      "cell_type": "markdown",
      "metadata": {},
      "source": [
        "<h2 style='color:#5E7AFF;margin-bottom:16px'>Formula <span style='color:orange'>6</span></h2>\n",
        "$$A_{n} \\ = \\  \\sum \\limits_{k=0}^{n} \\binom{n}{k} \\left(\\binom{k}{n-k} - \\binom{k}{n-k-1} \\right)$$"
      ]
    },
    {
      "cell_type": "code",
      "execution_count": null,
      "metadata": {},
      "outputs": [],
      "source": [
        "F6 = lambda n: sum(binomial(n,k)*(binomial(k,n-k)-binomial(k,n-k-1)) for k in (0..n))\n",
        "check(F6, Riordan, 12)"
      ]
    },
    {
      "cell_type": "markdown",
      "metadata": {},
      "source": [
        "<h2 style='color:#5E7AFF;margin-bottom:16px'>Formula <span style='color:orange'>7</span></h2>\n",
        "$$A_{n} \\ = \\  \\sum \\limits_{k=0}^{n} \\binom{n}{k}\\binom{k-1}{2k-n}\\frac{1}{k+1}$$"
      ]
    },
    {
      "cell_type": "code",
      "execution_count": null,
      "metadata": {},
      "outputs": [],
      "source": [
        "F7 = lambda n: sum(binomial(n,k)*binomial(k-1,2*k-n)//(k+1) for k in (0..n))\n",
        "check(F7, Riordan, 12)"
      ]
    },
    {
      "cell_type": "markdown",
      "metadata": {},
      "source": [
        "<h2 style='color:#5E7AFF;margin-bottom:16px'>Formula <span style='color:orange'>8</span></h2>\n",
        "$$A_{n+1} \\ = \\  M_{n} - A_{n}$$"
      ]
    },
    {
      "cell_type": "code",
      "execution_count": null,
      "metadata": {},
      "outputs": [],
      "source": [
        "M = MotzkinClass().generator()\n",
        "R = RiordanClass().generator()\n",
        "print [M.next() - R.next() for _ in range(12)]\n",
        "print Riordan.sequence(13)[1:]"
      ]
    },
    {
      "cell_type": "markdown",
      "metadata": {},
      "source": [
        "<h2 style='color:#5E7AFF;margin-bottom:16px'>Formula <span style='color:orange'>9</span></h2>\n",
        "$$A_{n+2} \\ = \\  \\sum \\limits_{k=0}^{n} M_{n,\\,k} $$"
      ]
    },
    {
      "cell_type": "code",
      "execution_count": null,
      "metadata": {},
      "outputs": [],
      "source": [
        "@cached_function\n",
        "def M(n, k):\n",
        "   if k<0 or n<k: return 0\n",
        "   if k==0: return 0^n\n",
        "   return M(n,k-1) + M(n-1,k-1) + M(n-2,k-1)\n",
        "\n",
        "F9 = lambda n: sum(M(n,k) for k in (0..n))\n",
        "R = Riordan.generator(); R.next(); R.next();\n",
        "check(F9, R, 12)"
      ]
    },
    {
      "cell_type": "markdown",
      "metadata": {},
      "source": [
        "<h2 style='color:#5E7AFF;margin-bottom:16px'>Formula <span style='color:orange'>10</span></h2>\n",
        "$$\\mathbb{A}_n(1) \\ = \\  \\sum \\limits_{k=0}^{n}(-1)^{k}\\binom{n+1}{k+1} \\binom{k}{\\lfloor{k/2}\\rfloor}$$"
      ]
    },
    {
      "cell_type": "code",
      "execution_count": null,
      "metadata": {},
      "outputs": [],
      "source": [
        "F10_lhs = partial_sum(Riordan.generator())\n",
        "F10_rhs = lambda n: sum((-1)^k*binomial(n+1,k+1)*binomial(k,k//2) for k in (0..n))\n",
        "check(F10_lhs, F10_rhs, 12)"
      ]
    },
    {
      "cell_type": "markdown",
      "metadata": {},
      "source": [
        "<h2 style='color:#5E7AFF;margin-bottom:16px'>Formula <span style='color:orange'>11</span></h2>\n",
        "$$\\mathbb{A}_n(A_k) \\ = \\  A_{n+1} + (-1)^{n} \\ = \\  \\sum \\limits_{k=0}^{n} (-1)^{n-k}\\,M_k$$"
      ]
    },
    {
      "cell_type": "code",
      "execution_count": null,
      "metadata": {},
      "outputs": [],
      "source": [
        "F11_lhs = self_convolution(Riordan.generator())\n",
        "F11_rhs = alternating_sign(alternating_sum(MotzkinClass().generator()))\n",
        "check(F11_lhs, F11_rhs, 12)"
      ]
    },
    {
      "cell_type": "markdown",
      "metadata": {},
      "source": [
        "<h2 style='color:#5E7AFF;margin-bottom:16px'>Formula <span style='color:orange'>12</span></h2>\n",
        "$$\\mathbb{B}_n(A_k) \\ = \\  C_n$$"
      ]
    },
    {
      "cell_type": "code",
      "execution_count": null,
      "metadata": {},
      "outputs": [],
      "source": [
        "F12_lhs = binomial_trans(Riordan.generator())\n",
        "F12_rhs = CatalanClass().generator()\n",
        "check(F12_lhs, F12_rhs, 12)"
      ]
    },
    {
      "cell_type": "markdown",
      "metadata": {},
      "source": [
        "<h2 style='color:#5E7AFF;margin-bottom:16px'>Formula <span style='color:orange'>13</span></h2>\n",
        "$$\\mathbb{B}_n^{*}(C_k) \\ = \\  A_{n}$$"
      ]
    },
    {
      "cell_type": "code",
      "execution_count": null,
      "metadata": {},
      "outputs": [],
      "source": [
        "F13 = binomial_invtrans(CatalanClass().generator())\n",
        "check(F13, Riordan.generator(), 12)"
      ]
    },
    {
      "cell_type": "markdown",
      "metadata": {},
      "source": [
        "<h2 style='color:#5E7AFF;margin-bottom:16px'>Formula <span style='color:orange'>14</span></h2>\n",
        "$$\\mathbb{B}_n^{*}(A_k) \\ = \\  (-1)^n \\binom{n}{\\lfloor{n/2}\\rfloor}$$"
      ]
    },
    {
      "cell_type": "code",
      "execution_count": null,
      "metadata": {},
      "outputs": [],
      "source": [
        "F14_lhs = binomial_invtrans(Riordan.generator())\n",
        "F14_rhs = lambda n: (-1)^n*binomial(n,n//2)\n",
        "check(F14_lhs, F14_rhs, 12)"
      ]
    },
    {
      "cell_type": "markdown",
      "metadata": {},
      "source": [
        "<h2 style='color:#5E7AFF;margin-bottom:16px'>Formula <span style='color:orange'>15</span></h2>\n",
        "$$A(z) \\ = \\  F\\left(\\genfrac{}{\\vert}{0pt}{}{-z,1/2}{2} 4\\right)e^{i \\pi z}$$"
      ]
    },
    {
      "cell_type": "code",
      "execution_count": null,
      "metadata": {},
      "outputs": [],
      "source": [
        "A = lambda z: exp(I*pi*z)*hypergeom([-z,1/2],[2],4)\n",
        "print [A(z) for z in (0..12)]"
      ]
    },
    {
      "cell_type": "markdown",
      "metadata": {},
      "source": [
        "<h2 style='color:#5E7AFF;margin-bottom:16px'>Formula <span style='color:orange'>16</span></h2>\n",
        "$$A(z) \\ = \\  \\frac{1}{\\pi} { \\int_{0}^{4 }\\! (x - 1)^{z} \\sqrt{\\frac{1}{x} - \\frac{1}{4}} \\, dx}$$"
      ]
    },
    {
      "cell_type": "code",
      "execution_count": null,
      "metadata": {},
      "outputs": [],
      "source": [
        "F16 = lambda z: (1/pi)*integral((x-1)^z*sqrt(1/x-1/4), x,0,4)\n",
        "print [F16(z) for z in (0..12)]"
      ]
    },
    {
      "cell_type": "markdown",
      "metadata": {},
      "source": [
        "<h2 style='color:#5E7AFF;margin-bottom:16px'>Formula <span style='color:orange'>17</span></h2>\n",
        "$$A(z) \\ = \\  \\frac{2}{\\pi} {\\int_{0}^{\\pi }\\! \\left( 4\\, \\cos^{2}(x)-1 \\right)^{z} \\sin^{2}(x) \\, dx}$$"
      ]
    },
    {
      "cell_type": "code",
      "execution_count": null,
      "metadata": {},
      "outputs": [],
      "source": [
        "F17 = lambda z: (2/pi)*integral((4*cos(x)^2-1)^z*sin(x)^2,x,0,pi)\n",
        "print [F17(z) for z in (0..12)]"
      ]
    },
    {
      "cell_type": "markdown",
      "metadata": {},
      "source": [
        "<h2 style='color:#5E7AFF;margin-bottom:16px'>Formula <span style='color:orange'>18</span></h2>\n",
        "$$A(z) \\ \\sim \\ \\frac{3^{z+2}}{8\\,z \\sqrt{3 z \\pi}} \\left(1 - \\frac{21}{16 z} + O(z^{-2})\\right)$$"
      ]
    },
    {
      "cell_type": "code",
      "execution_count": null,
      "metadata": {},
      "outputs": [],
      "source": [
        "A18 = lambda z: 3^(z+2)/(8*z*sqrt(3*z*pi))*(1-21/(16*z))\n",
        "print [ceil(A18(z)) for z in (1..12)]"
      ]
    }
  ],
  "metadata": {
    "kernelspec": {
      "display_name": "Python 2",
      "language": "python",
      "name": "python2"
    },
    "language_info": {
      "codemirror_mode": {
        "name": "ipython",
        "version": 2
      },
      "file_extension": ".py",
      "mimetype": "text/x-python",
      "name": "python",
      "nbconvert_exporter": "python",
      "pygments_lexer": "ipython2",
      "version": "2.7.8"
    },
    "name": "OLMS-Riordan.ipynb"
  },
  "nbformat": 4,
  "nbformat_minor": 0
}